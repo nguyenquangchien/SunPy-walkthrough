{
 "cells": [
  {
   "cell_type": "markdown",
   "metadata": {},
   "source": [
    "# SunPy: coding to analyse signals from the Sun\n",
    "\n",
    "The SunPy library provides various modules for the conversion and transformation of electromagnetic signals emitted from the Sun. It is widely used among astrophysical research communities. However, it is also a valuable tool to experiment with high-volume data. In this walkthrough, I will demonstrate some common ways to explore these solar data resources."
   ]
  },
  {
   "cell_type": "markdown",
   "metadata": {},
   "source": [
    "Audience *\n",
    "Python programmers, data engineers, astrophysicists\n",
    "\n",
    "Outcomes *\n",
    "Following this walkthrough, you can start delving into a wealth of solar online data repositories and created new output for either research work or your curiosity. \n",
    "\n",
    "Accessibility *\n",
    "The material would be readily accessible by anyone who has a PC with Python installed.\n",
    "\n",
    "Promotion *\n",
    "A digital badge for the first attendee to complete the walkthrough\n",
    "\n",
    "Technological Requirements *\n",
    "No specific requirements. Attendees can experiment with their own PC."
   ]
  },
  {
   "cell_type": "markdown",
   "metadata": {},
   "source": [
    "## Short description\n",
    "\n",
    "SunPy is a community-developed free and open-source software package for solar physics. SunPy is meant to be a free alternative to [SolarSoft](https://www.lmsal.com/solarsoft/) and its aim is to provide the software tools necessary so that anyone can analyze solar data. "
   ]
  },
  {
   "cell_type": "markdown",
   "metadata": {},
   "source": [
    "## Software development progress\n",
    "Previous versions of SunPy:\n",
    "* 0.1 in 2011\n",
    "* 0.5 in 2015 (~ 20k lines of code)\n",
    "* 1.0 in 2019 (~ 30k lines of code, porting to Python 3.0)"
   ]
  },
  {
   "cell_type": "markdown",
   "metadata": {},
   "source": [
    "## Typical uses\n",
    "\n",
    "\n",
    "* Query and download data from many different solar missions and instruments via a general, standard, and consistent interface.\n",
    "* Load and visualize time series data — measurements of how, say, a particular type of flux from a region changes over time — and images.\n",
    "* Perform transformations between the variety of coordinate systems commonly used to describe events and features both on the Sun and within the heliosphere.\n"
   ]
  },
  {
   "attachments": {},
   "cell_type": "markdown",
   "metadata": {},
   "source": [
    "A survey carried out by Bobra et al. (2020) reveals that Python and IDL are two main programming tools used in astronomy and astrophysics researchers, with the trend of \"younger\" respondents tend to use more Python.\n",
    "![SunPy_survey_IDL_vs_Python.webp](SunPy_survey_IDL_vs_Python.webp)"
   ]
  },
  {
   "cell_type": "markdown",
   "metadata": {},
   "source": [
    "## References\n",
    "\n",
    "\n",
    "Bobra, M.G., Mumford, S.J., Hewett, R.J. et al. (2020). A Survey of Computational Tools in Solar Physics. Sol Phys 295, 57. https://doi.org/10.1007/s11207-020-01622-2\n",
    "\n",
    "The SunPy Community et al. (2020). “The SunPy Project: Open Source Development and Status of the Version 1.0 Core Package,” ApJ 890 68. doi:10.3847/1538-4357/ab4f7a\n",
    "\n",
    "The SunPy Community (2021). SunPy 3.0.1 Documentation. https://docs.sunpy.org/en/stable/index.html"
   ]
  },
  {
   "cell_type": "code",
   "execution_count": null,
   "metadata": {},
   "outputs": [],
   "source": []
  }
 ],
 "metadata": {
  "kernelspec": {
   "display_name": "Python 3",
   "language": "python",
   "name": "python3"
  },
  "language_info": {
   "codemirror_mode": {
    "name": "ipython",
    "version": 3
   },
   "file_extension": ".py",
   "mimetype": "text/x-python",
   "name": "python",
   "nbconvert_exporter": "python",
   "pygments_lexer": "ipython3",
   "version": "3.7.3"
  }
 },
 "nbformat": 4,
 "nbformat_minor": 2
}
